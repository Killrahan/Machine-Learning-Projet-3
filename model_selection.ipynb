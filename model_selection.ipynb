{
 "cells": [
  {
   "cell_type": "code",
   "execution_count": null,
   "metadata": {},
   "outputs": [],
   "source": [
    "import numpy as np"
   ]
  },
  {
   "cell_type": "code",
   "execution_count": null,
   "metadata": {},
   "outputs": [],
   "source": [
    "from csv_diff import compare_csv_files\n",
    "from toy_script import write_submission\n",
    "from fourier import build_dataset,CV_score"
   ]
  },
  {
   "cell_type": "code",
   "execution_count": null,
   "metadata": {},
   "outputs": [],
   "source": [
    "from sklearn.neighbors import KNeighborsClassifier\n",
    "from sklearn.tree import DecisionTreeClassifier\n",
    "from sklearn.neural_network import MLPClassifier\n",
    "from sklearn.ensemble import RandomForestClassifier\n",
    "from sklearn.model_selection import GridSearchCV\n",
    "from subjectSplit import SubjectSplit"
   ]
  },
  {
   "cell_type": "code",
   "execution_count": null,
   "metadata": {},
   "outputs": [],
   "source": [
    "\n",
    "    \n",
    "# build dataset with Simple Imputer, stats and fourier\n",
    "dataset = build_dataset(5)\n",
    "\n",
    "subject_splitter = SubjectSplit(dataset[0])\n",
    "\n",
    "X_train = np.concatenate(dataset[0])\n",
    "y_train = np.concatenate(dataset[1])\n",
    "X_test = dataset[2]\n",
    "\n",
    "# set files for comparison\n",
    "\n",
    "file1 = 'test_labels_sorted.csv'\n",
    "file2 = 'example_submission.csv'\n"
   ]
  },
  {
   "cell_type": "code",
   "execution_count": null,
   "metadata": {},
   "outputs": [],
   "source": [
    "    \n",
    "\n",
    "    \n",
    "print(\"kNN\")\n",
    "\n",
    "params_grid = {\n",
    "    'n_neighbors' : np.arange(1,201).tolist()\n",
    "}\n",
    "\n",
    "grid = GridSearchCV(estimator=KNeighborsClassifier(),param_grid=params_grid,cv=subject_splitter,n_jobs=-1)\n",
    "grid.fit(X_train,y_train)\n",
    "\n",
    "best_param = grid.best_params_\n",
    "best_score = grid.best_score_\n",
    "\n",
    "print(\"best score :\",best_score)\n",
    "print(\"best param :\", best_param)\n",
    "\n",
    "clf = KNeighborsClassifier(n_neighbors=best_param['n_neighbors'])\n",
    "clf.fit(X_train,y_train)\n",
    "\n",
    "y_pred = clf.predict(X_test)\n",
    "write_submission(y_pred)\n",
    "\n",
    "# print errors in the terminal\n",
    "compare_csv_files(file1, file2)\n",
    "    \n",
    "    \n"
   ]
  },
  {
   "cell_type": "code",
   "execution_count": null,
   "metadata": {},
   "outputs": [],
   "source": [
    "# DT classfier ==========================\n",
    "\n",
    "print(\"DT\")\n",
    "\n",
    "params_grid = {\n",
    "    'max_depth' : np.arange(1,32).tolist().append(None)\n",
    "}\n",
    "\n",
    "grid = GridSearchCV(estimator=DecisionTreeClassifier(),param_grid=params_grid,cv=subject_splitter,n_jobs=-1)\n",
    "grid.fit(X_train,y_train)\n",
    "\n",
    "best_param = grid.best_params_\n",
    "best_score = grid.best_score_\n",
    "\n",
    "print(\"best score :\",best_score)\n",
    "print(\"best param :\", best_param)\n",
    "clf = DecisionTreeClassifier(max_depth=best_param['max_depth'])\n",
    "clf.fit(X_train,y_train)\n",
    "y_pred = clf.predict(X_test)\n",
    "write_submission(y_pred)\n",
    "\n",
    "# print errors in the terminal\n",
    "compare_csv_files(file1, file2)\n"
   ]
  },
  {
   "cell_type": "code",
   "execution_count": null,
   "metadata": {},
   "outputs": [],
   "source": [
    "\n",
    "# Multi-layer perceptron ================\n",
    "clf = MLPClassifier()\n",
    "clf.fit(X_train,y_train)\n",
    "y_pred = clf.predict(X_test)\n",
    "write_submission(y_pred)\n",
    "\n",
    "# print errors in the terminal\n",
    "compare_csv_files(file1, file2)\n"
   ]
  },
  {
   "cell_type": "code",
   "execution_count": null,
   "metadata": {},
   "outputs": [],
   "source": [
    "\n",
    "# Random forest classifier ==============\n",
    "\n",
    "print(\"RFC\")\n",
    "\n",
    "params_grid = {\n",
    "    'max_depth' : np.arange(1,32).tolist().append(None),\n",
    "    'max_features' : ['sqrt','log2',None]\n",
    "}\n",
    "\n",
    "grid = GridSearchCV(estimator=KNeighborsClassifier(),param_grid=params_grid,cv=subject_splitter,n_jobs=-1)\n",
    "grid.fit(X_train,y_train)\n",
    "\n",
    "best_param = grid.best_params_\n",
    "best_score = grid.best_score_\n",
    "\n",
    "print(\"best score :\",best_score)\n",
    "print(\"best param :\", best_param)\n",
    "clf = RandomForestClassifier(n_estimators= 1500, n_jobs=-1,max_depth=best_param['max_depth'],max_features=best_param['max_features'])\n",
    "clf.fit(X_train,y_train)\n",
    "y_pred = clf.predict(X_test)\n",
    "write_submission(y_pred)\n",
    "\n",
    "# print errors in the terminal\n",
    "compare_csv_files(file1, file2)\n"
   ]
  }
 ],
 "metadata": {
  "kernelspec": {
   "display_name": "Python 3",
   "language": "python",
   "name": "python3"
  },
  "language_info": {
   "codemirror_mode": {
    "name": "ipython",
    "version": 3
   },
   "file_extension": ".py",
   "mimetype": "text/x-python",
   "name": "python",
   "nbconvert_exporter": "python",
   "pygments_lexer": "ipython3",
   "version": "3.6.4"
  }
 },
 "nbformat": 4,
 "nbformat_minor": 2
}
